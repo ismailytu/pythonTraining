{
 "cells": [
  {
   "cell_type": "code",
   "execution_count": null,
   "id": "50369611",
   "metadata": {},
   "outputs": [],
   "source": [
    "name = input(\"Adın ne aslan parçası : \")\n",
    "print(\"Allah kurtarsın\" + name )\n",
    "\n",
    "kelime = \"anka\"\n",
    "tahminlist = \"\"\n",
    "lives = 4\n",
    "\n",
    "\n",
    "while lives > 0:\n",
    "    character_left = 0\n",
    "\n",
    "    for character in kelime:\n",
    "\n",
    "        if character in tahminlist:\n",
    "            print(character)\n",
    "        else:\n",
    "            print(\"-\")\n",
    "            character_left += 1\n",
    "\n",
    "    if character_left == 0:\n",
    "        print(\"Tebrikler  Kazandınız\")\n",
    "        break\n",
    "        \n",
    "    tahmin = input(\"Lütfen Harf Giriniz : \")\n",
    "    tahminlist += tahmin\n",
    "    if tahmin not in kelime:\n",
    "        lives -= 1\n",
    "        print(f\"Tahmin yoktur kalan hakkiniz : {lives}\")\n",
    "\n",
    "        if lives == 0:\n",
    "            print(\"Kaybettiniz\")"
   ]
  }
 ],
 "metadata": {
  "kernelspec": {
   "display_name": "Python 3 (ipykernel)",
   "language": "python",
   "name": "python3"
  },
  "language_info": {
   "codemirror_mode": {
    "name": "ipython",
    "version": 3
   },
   "file_extension": ".py",
   "mimetype": "text/x-python",
   "name": "python",
   "nbconvert_exporter": "python",
   "pygments_lexer": "ipython3",
   "version": "3.9.7"
  }
 },
 "nbformat": 4,
 "nbformat_minor": 5
}
