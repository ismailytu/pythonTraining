{
 "cells": [
  {
   "cell_type": "code",
   "execution_count": 3,
   "id": "cf0d4a00",
   "metadata": {},
   "outputs": [
    {
     "name": "stdout",
     "output_type": "stream",
     "text": [
      "lütfen kilonuzu giriniz:74\n",
      "lütfen boyunuzu giriniz:1.74\n",
      "boy kilo endeksi sayısal değerin: 24.441802087462015\n",
      "Normal\n"
     ]
    }
   ],
   "source": [
    "a = float(input(\"lütfen kilonuzu giriniz:\" ))\n",
    "\n",
    "b = float(input(\"lütfen boyunuzu giriniz:\" ))\n",
    "\n",
    "bki = a/(b*b)\n",
    "\n",
    "print(\"boy kilo endeksi sayısal değerin:\",bki)\n",
    "if 0<=bki<=18.5 :\n",
    "    print(\"Zayıf!\")\n",
    "elif 18.5<bki<=25:\n",
    "    print(\"Normal\")\n",
    "elif 24.5<bki<=29:\n",
    "   print(\"Fazla Kilolu!\")\n",
    "else:\n",
    "    print(\"Obez\")\n",
    "    "
   ]
  },
  {
   "cell_type": "code",
   "execution_count": 14,
   "id": "01f396a6",
   "metadata": {},
   "outputs": [
    {
     "name": "stdout",
     "output_type": "stream",
     "text": [
      "1. Sayı: 13\n",
      "2. Sayı: 7\n",
      "3. Sayı: 9\n",
      "13 , 7 ve 9 içinde büyük olan sayı 13\n"
     ]
    }
   ],
   "source": [
    "a = int(input(\"1. Sayı: \"))\n",
    "b = int(input(\"2. Sayı: \"))\n",
    "c = int(input(\"3. Sayı: \"))\n",
    " \n",
    "if (a >= b) and (a >= c):\n",
    "   buyuk = a\n",
    "elif (b >= a) and (b >= c):\n",
    "   buyuk = b\n",
    "else:\n",
    "   buyuk = c\n",
    " \n",
    "print(a,\",\",b,\"ve\",c,\"içinde büyük olan sayı\",buyuk)\n",
    " "
   ]
  },
  {
   "cell_type": "code",
   "execution_count": 19,
   "id": "64fadd55",
   "metadata": {},
   "outputs": [
    {
     "name": "stdout",
     "output_type": "stream",
     "text": [
      "1. Vize:100\n",
      "2. Vize:100\n",
      "Final:100\n",
      "Ortalama :100.0 \n",
      "AA\n"
     ]
    }
   ],
   "source": [
    "vize1 = input(\"1. Vize:\")\n",
    "vize2 = input(\"2. Vize:\")\n",
    "Final = input(\"Final:\")\n",
    " \n",
    "ortalama = int(vize1)*(3/10) + int(vize2)*(3/10) + int(Final)*(4/10)\n",
    " \n",
    "\n",
    "print(\"Ortalama :{0} \".format(ortalama))\n",
    "if(ortalama >=90):\n",
    "    print(\"AA\")\n",
    "elif(ortalama >=85):\n",
    "    print(\"BA\")\n",
    "elif(ortalama >=80):\n",
    "    print(\"BB\")\n",
    "elif(ortalama >=75):\n",
    "    print(\"CB\")\n",
    "elif(ortalama >=70):\n",
    "    print(\"CC\")\n",
    "elif(ortalama >=65):\n",
    "    print(\"DC\")\n",
    "elif(ortalama >=60):\n",
    "    print(\"DD\")\n",
    "elif(ortalama >=55):\n",
    "    print(\"FD\")\n",
    "elif(ortalama <50):\n",
    "    print(\"FF\")"
   ]
  },
  {
   "cell_type": "code",
   "execution_count": 20,
   "id": "bad9e1ee",
   "metadata": {},
   "outputs": [
    {
     "name": "stdout",
     "output_type": "stream",
     "text": [
      "Sayi Giriniz:6\n",
      "Mükemmel Sayidir.\n"
     ]
    }
   ],
   "source": [
    "sayi = int(input(\"Sayi Giriniz:\"))\n",
    " \n",
    "toplam=0\n",
    " \n",
    "for i in range(1,sayi):\n",
    "    if(sayi%i == 0):\n",
    "        toplam +=i\n",
    "        \n",
    "if(sayi == toplam):\n",
    "    print(\"Mükemmel Sayidir.\")\n",
    "else:\n",
    "    print(\"Mükemmel Sayi Degildir\")"
   ]
  },
  {
   "cell_type": "code",
   "execution_count": 22,
   "id": "5334378c",
   "metadata": {},
   "outputs": [
    {
     "name": "stdout",
     "output_type": "stream",
     "text": [
      "--------------------\n",
      "1 'ler\n",
      "--------------------\n",
      "1 x 1 = 1\n",
      "1 x 2 = 2\n",
      "1 x 3 = 3\n",
      "1 x 4 = 4\n",
      "1 x 5 = 5\n",
      "1 x 6 = 6\n",
      "1 x 7 = 7\n",
      "1 x 8 = 8\n",
      "1 x 9 = 9\n",
      "1 x 10 = 10\n",
      "--------------------\n",
      "2 'ler\n",
      "--------------------\n",
      "2 x 1 = 2\n",
      "2 x 2 = 4\n",
      "2 x 3 = 6\n",
      "2 x 4 = 8\n",
      "2 x 5 = 10\n",
      "2 x 6 = 12\n",
      "2 x 7 = 14\n",
      "2 x 8 = 16\n",
      "2 x 9 = 18\n",
      "2 x 10 = 20\n",
      "--------------------\n",
      "3 'ler\n",
      "--------------------\n",
      "3 x 1 = 3\n",
      "3 x 2 = 6\n",
      "3 x 3 = 9\n",
      "3 x 4 = 12\n",
      "3 x 5 = 15\n",
      "3 x 6 = 18\n",
      "3 x 7 = 21\n",
      "3 x 8 = 24\n",
      "3 x 9 = 27\n",
      "3 x 10 = 30\n",
      "--------------------\n",
      "4 'ler\n",
      "--------------------\n",
      "4 x 1 = 4\n",
      "4 x 2 = 8\n",
      "4 x 3 = 12\n",
      "4 x 4 = 16\n",
      "4 x 5 = 20\n",
      "4 x 6 = 24\n",
      "4 x 7 = 28\n",
      "4 x 8 = 32\n",
      "4 x 9 = 36\n",
      "4 x 10 = 40\n",
      "--------------------\n",
      "5 'ler\n",
      "--------------------\n",
      "5 x 1 = 5\n",
      "5 x 2 = 10\n",
      "5 x 3 = 15\n",
      "5 x 4 = 20\n",
      "5 x 5 = 25\n",
      "5 x 6 = 30\n",
      "5 x 7 = 35\n",
      "5 x 8 = 40\n",
      "5 x 9 = 45\n",
      "5 x 10 = 50\n",
      "--------------------\n",
      "6 'ler\n",
      "--------------------\n",
      "6 x 1 = 6\n",
      "6 x 2 = 12\n",
      "6 x 3 = 18\n",
      "6 x 4 = 24\n",
      "6 x 5 = 30\n",
      "6 x 6 = 36\n",
      "6 x 7 = 42\n",
      "6 x 8 = 48\n",
      "6 x 9 = 54\n",
      "6 x 10 = 60\n",
      "--------------------\n",
      "7 'ler\n",
      "--------------------\n",
      "7 x 1 = 7\n",
      "7 x 2 = 14\n",
      "7 x 3 = 21\n",
      "7 x 4 = 28\n",
      "7 x 5 = 35\n",
      "7 x 6 = 42\n",
      "7 x 7 = 49\n",
      "7 x 8 = 56\n",
      "7 x 9 = 63\n",
      "7 x 10 = 70\n",
      "--------------------\n",
      "8 'ler\n",
      "--------------------\n",
      "8 x 1 = 8\n",
      "8 x 2 = 16\n",
      "8 x 3 = 24\n",
      "8 x 4 = 32\n",
      "8 x 5 = 40\n",
      "8 x 6 = 48\n",
      "8 x 7 = 56\n",
      "8 x 8 = 64\n",
      "8 x 9 = 72\n",
      "8 x 10 = 80\n",
      "--------------------\n",
      "9 'ler\n",
      "--------------------\n",
      "9 x 1 = 9\n",
      "9 x 2 = 18\n",
      "9 x 3 = 27\n",
      "9 x 4 = 36\n",
      "9 x 5 = 45\n",
      "9 x 6 = 54\n",
      "9 x 7 = 63\n",
      "9 x 8 = 72\n",
      "9 x 9 = 81\n",
      "9 x 10 = 90\n",
      "--------------------\n",
      "10 'ler\n",
      "--------------------\n",
      "10 x 1 = 10\n",
      "10 x 2 = 20\n",
      "10 x 3 = 30\n",
      "10 x 4 = 40\n",
      "10 x 5 = 50\n",
      "10 x 6 = 60\n",
      "10 x 7 = 70\n",
      "10 x 8 = 80\n",
      "10 x 9 = 90\n",
      "10 x 10 = 100\n"
     ]
    }
   ],
   "source": [
    "for i in range(1,11):\n",
    "    print(\"-\" * 20)\n",
    "    print(i,\"'ler\")\n",
    "    \n",
    "    print(\"-\" * 20)\n",
    "    for k in range(1,11):\n",
    "        print(i,\"x\", k,\"=\",i*k)"
   ]
  },
  {
   "cell_type": "code",
   "execution_count": 5,
   "id": "b652f2f1",
   "metadata": {},
   "outputs": [
    {
     "name": "stdout",
     "output_type": "stream",
     "text": [
      "[3, 6, 9, 12, 15, 18, 21, 24, 27, 30, 33, 36, 39, 42, 45, 48, 51, 54, 57, 60, 63, 66, 69, 72, 75, 78, 81, 84, 87, 90, 93, 96, 99]\n"
     ]
    }
   ],
   "source": [
    "sayılar=[]\n",
    "for i in range(1,100):\n",
    "    if (i%3==0):\n",
    "        sayılar.append(i)\n",
    "print(sayılar)"
   ]
  },
  {
   "cell_type": "code",
   "execution_count": 24,
   "id": "54d7d1b0",
   "metadata": {},
   "outputs": [
    {
     "name": "stdout",
     "output_type": "stream",
     "text": [
      "[2, 4, 6, 8, 10, 12, 14, 16, 18, 20, 22, 24, 26, 28, 30, 32, 34, 36, 38, 40, 42, 44, 46, 48, 50, 52, 54, 56, 58, 60, 62, 64, 66, 68, 70, 72, 74, 76, 78, 80, 82, 84, 86, 88, 90, 92, 94, 96, 98]\n"
     ]
    }
   ],
   "source": [
    "çiftsayılar=[]\n",
    "for i in range(1,100):\n",
    "    if i%2==0:\n",
    "        çiftsayılar.append(i)\n",
    "print(çiftsayılar)"
   ]
  },
  {
   "cell_type": "code",
   "execution_count": null,
   "id": "f3e7c131",
   "metadata": {},
   "outputs": [],
   "source": []
  },
  {
   "cell_type": "code",
   "execution_count": null,
   "id": "7d2e1bef",
   "metadata": {},
   "outputs": [],
   "source": []
  }
 ],
 "metadata": {
  "kernelspec": {
   "display_name": "Python 3 (ipykernel)",
   "language": "python",
   "name": "python3"
  },
  "language_info": {
   "codemirror_mode": {
    "name": "ipython",
    "version": 3
   },
   "file_extension": ".py",
   "mimetype": "text/x-python",
   "name": "python",
   "nbconvert_exporter": "python",
   "pygments_lexer": "ipython3",
   "version": "3.9.7"
  }
 },
 "nbformat": 4,
 "nbformat_minor": 5
}
