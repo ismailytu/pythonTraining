{
 "cells": [
  {
   "cell_type": "code",
   "execution_count": 1,
   "id": "01ab74b0",
   "metadata": {},
   "outputs": [
    {
     "name": "stdout",
     "output_type": "stream",
     "text": [
      "a : 1\n",
      "b : 2\n",
      "c : 3\n",
      "Carpim :6.0 \n"
     ]
    }
   ],
   "source": [
    "a = input('a : ')\n",
    "b = input('b : ')\n",
    "c = input('c : ')\n",
    "carpim=float(a)*float(b)*float(c)\n",
    "print(\"Carpim :{0} \".format(carpim))\n"
   ]
  },
  {
   "cell_type": "code",
   "execution_count": 13,
   "id": "862834fd",
   "metadata": {},
   "outputs": [
    {
     "name": "stdout",
     "output_type": "stream",
     "text": [
      "lütfen kilonuzu giriniz:74\n",
      "lütfen boyunuzu giriniz:1.74\n",
      "24.441802087462015\n"
     ]
    }
   ],
   "source": [
    "a = float(input(\"lütfen kilonuzu giriniz:\" ))\n",
    "\n",
    "b = float(input(\"lütfen boyunuzu giriniz:\" ))\n",
    "\n",
    "z = a / (b*b)\n",
    "print(z)\n",
    "\n",
    "\n",
    "           "
   ]
  },
  {
   "cell_type": "code",
   "execution_count": 31,
   "id": "098a185d",
   "metadata": {},
   "outputs": [
    {
     "name": "stdout",
     "output_type": "stream",
     "text": [
      "bir kilometrede yakım:5\n",
      "gidilen yol:200\n",
      "1000\n"
     ]
    }
   ],
   "source": [
    "a = int(input(\"bir kilometrede yakım:\" ))\n",
    "b = int(input(\"gidilen yol:\" ))\n",
    "c = a * b\n",
    "print(c)"
   ]
  },
  {
   "cell_type": "code",
   "execution_count": 44,
   "id": "81eddf7a",
   "metadata": {},
   "outputs": [
    {
     "name": "stdout",
     "output_type": "stream",
     "text": [
      "adınızı yazınız:ismail\n",
      "soyadınızı yazınız:can\n",
      "numaranızı yazınız:05413538302\n",
      "('ismail', 'can', '05413538302')\n"
     ]
    }
   ],
   "source": [
    "a = input(\"adınızı yazınız:\")\n",
    "b = input(\"soyadınızı yazınız:\")\n",
    "c = input(\"numaranızı yazınız:\")\n",
    "d = (a,\n",
    "     b,\n",
    "    c)\n",
    "print(d)\n"
   ]
  },
  {
   "cell_type": "code",
   "execution_count": 2,
   "id": "52923aef",
   "metadata": {},
   "outputs": [
    {
     "name": "stdout",
     "output_type": "stream",
     "text": [
      "birinci dik kenarı giriniz:3\n",
      "ikinci dik kenarı giriniz:4\n",
      "5.0\n"
     ]
    }
   ],
   "source": [
    "a = int(input(\"birinci dik kenarı giriniz:\" ))\n",
    "\n",
    "b = int(input(\"ikinci dik kenarı giriniz:\" ))\n",
    "c = ((a** 2) + (b** 2))** (1/2)\n",
    "print(c)\n"
   ]
  },
  {
   "cell_type": "code",
   "execution_count": 1,
   "id": "31494cc1",
   "metadata": {},
   "outputs": [
    {
     "name": "stdout",
     "output_type": "stream",
     "text": [
      "a : 9\n",
      "b : -18\n",
      "c : 9\n",
      "Birinci Kök : 1.0\n",
      "İkinci Kök : 1.0\n"
     ]
    }
   ],
   "source": [
    "a=int(input(\"a : \"))\n",
    "b=int(input(\"b : \"))\n",
    "c=int(input(\"c : \"))\n",
    " \n",
    "delta=b**2-4*a*c\n",
    "\n",
    " \n",
    "x1=(-b-delta**0.5)/(2*a)\n",
    "x2=(-b+delta**0.5)/(2*a)\n",
    " \n",
    "print(\"Birinci Kök : {}\\nİkinci Kök : {}\".format(x1,x2))"
   ]
  },
  {
   "cell_type": "code",
   "execution_count": null,
   "id": "3adf2f76",
   "metadata": {},
   "outputs": [],
   "source": []
  }
 ],
 "metadata": {
  "kernelspec": {
   "display_name": "Python 3 (ipykernel)",
   "language": "python",
   "name": "python3"
  },
  "language_info": {
   "codemirror_mode": {
    "name": "ipython",
    "version": 3
   },
   "file_extension": ".py",
   "mimetype": "text/x-python",
   "name": "python",
   "nbconvert_exporter": "python",
   "pygments_lexer": "ipython3",
   "version": "3.9.7"
  }
 },
 "nbformat": 4,
 "nbformat_minor": 5
}
